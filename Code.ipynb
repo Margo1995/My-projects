{
 "cells": [
  {
   "cell_type": "markdown",
   "metadata": {
    "id": "gclwCF2AWR-F",
    "papermill": {
     "duration": 0.065466,
     "end_time": "2020-11-30T07:38:51.578836",
     "exception": false,
     "start_time": "2020-11-30T07:38:51.513370",
     "status": "completed"
    },
    "tags": []
   },
   "source": [
    "<div class=\"alert alert-block alert-danger\">  \n",
    "<h2><center><strong>Importing Python Libraries 📕 📗 📘 📙</strong></center></h2>\n",
    "        \n",
    "</div>"
   ]
  },
  {
   "cell_type": "code",
   "execution_count": 1,
   "metadata": {
    "id": "-E4TvIVLMa73",
    "scrolled": true
   },
   "outputs": [],
   "source": [
    "import numpy as np  # library for numeric calculations   \n",
    "import pandas as pd # library for reading data \n",
    "import seaborn as sns # library for plots \n",
    "import matplotlib.pyplot as plt # library for plots \n",
    "from sklearn.metrics import mean_squared_error # library for evaluation  mse \n",
    "from math import sqrt  # library for evaluation  rmse\n",
    "from sklearn.metrics import mean_absolute_error # library for evaluation mae \n",
    "from sklearn.preprocessing import MinMaxScaler #for data normalization\n",
    "from keras.layers import Dense, Dropout # library for ANN\n",
    "from keras.optimizers import Adam # library for ANN \n",
    "from keras.layers import Activation # library for ANN \n",
    "from keras.models import Sequential # library for ANN \n",
    "from keras.layers import Dense, Dropout # library for ANN\n",
    "\n",
    "import warnings # library to avoid system erros \n",
    "warnings.filterwarnings(\"ignore\")  # library to avoid system erros "
   ]
  },
  {
   "cell_type": "markdown",
   "metadata": {
    "id": "_YDjrbD8WR-M",
    "papermill": {
     "duration": 0.065466,
     "end_time": "2020-11-30T07:38:51.578836",
     "exception": false,
     "start_time": "2020-11-30T07:38:51.513370",
     "status": "completed"
    },
    "tags": []
   },
   "source": [
    "<div class=\"alert alert-block alert-danger\">  \n",
    "<h2><center><strong>Loading data 📂</strong></center></h2>\n",
    "        \n",
    "</div>"
   ]
  },
  {
   "cell_type": "code",
   "execution_count": 2,
   "metadata": {
    "id": "St73vqOcWR-N"
   },
   "outputs": [],
   "source": [
    "data = pd.read_excel(\"Data.xlsx\")"
   ]
  },
  {
   "cell_type": "code",
   "execution_count": 3,
   "metadata": {
    "id": "s2VhxCS3WR-O"
   },
   "outputs": [],
   "source": [
    "col=['Friction', 'Hub','Yield point','Soldification', 'x-position','max force','max plasctic','max stress']\n",
    "data.columns=col"
   ]
  },
  {
   "cell_type": "markdown",
   "metadata": {
    "id": "TWQ1XTuuWR-P",
    "papermill": {
     "duration": 0.065466,
     "end_time": "2020-11-30T07:38:51.578836",
     "exception": false,
     "start_time": "2020-11-30T07:38:51.513370",
     "status": "completed"
    },
    "tags": []
   },
   "source": [
    "<div class=\"alert alert-block alert-info\">  \n",
    "<h2><center><strong>Now its time to analyse all data</strong></center></h2>\n",
    "        \n",
    "</div>"
   ]
  },
  {
   "cell_type": "markdown",
   "metadata": {
    "id": "K4_fvGBDWR-P"
   },
   "source": [
    "#### Five top records of data"
   ]
  },
  {
   "cell_type": "code",
   "execution_count": 4,
   "metadata": {
    "id": "mKOLGvCmWR-Q",
    "outputId": "3460cf83-e769-41fd-d5ae-a43d568dee3c"
   },
   "outputs": [
    {
     "data": {
      "text/html": [
       "<div>\n",
       "<style scoped>\n",
       "    .dataframe tbody tr th:only-of-type {\n",
       "        vertical-align: middle;\n",
       "    }\n",
       "\n",
       "    .dataframe tbody tr th {\n",
       "        vertical-align: top;\n",
       "    }\n",
       "\n",
       "    .dataframe thead th {\n",
       "        text-align: right;\n",
       "    }\n",
       "</style>\n",
       "<table border=\"1\" class=\"dataframe\">\n",
       "  <thead>\n",
       "    <tr style=\"text-align: right;\">\n",
       "      <th></th>\n",
       "      <th>Friction</th>\n",
       "      <th>Hub</th>\n",
       "      <th>Yield point</th>\n",
       "      <th>Soldification</th>\n",
       "      <th>x-position</th>\n",
       "      <th>max force</th>\n",
       "      <th>max plasctic</th>\n",
       "      <th>max stress</th>\n",
       "    </tr>\n",
       "  </thead>\n",
       "  <tbody>\n",
       "    <tr>\n",
       "      <th>0</th>\n",
       "      <td>0.087333</td>\n",
       "      <td>-23.734797</td>\n",
       "      <td>378.96838</td>\n",
       "      <td>0.216275</td>\n",
       "      <td>16.019692</td>\n",
       "      <td>-88418.969</td>\n",
       "      <td>0.170637</td>\n",
       "      <td>753.02191</td>\n",
       "    </tr>\n",
       "    <tr>\n",
       "      <th>1</th>\n",
       "      <td>0.112667</td>\n",
       "      <td>-23.945203</td>\n",
       "      <td>364.83162</td>\n",
       "      <td>0.245743</td>\n",
       "      <td>16.893973</td>\n",
       "      <td>-1720949.400</td>\n",
       "      <td>0.168690</td>\n",
       "      <td>751.46106</td>\n",
       "    </tr>\n",
       "    <tr>\n",
       "      <th>2</th>\n",
       "      <td>0.142081</td>\n",
       "      <td>-23.808332</td>\n",
       "      <td>348.41877</td>\n",
       "      <td>0.226572</td>\n",
       "      <td>17.516778</td>\n",
       "      <td>-108039.340</td>\n",
       "      <td>0.168020</td>\n",
       "      <td>750.84351</td>\n",
       "    </tr>\n",
       "    <tr>\n",
       "      <th>3</th>\n",
       "      <td>0.064685</td>\n",
       "      <td>-23.912855</td>\n",
       "      <td>344.15463</td>\n",
       "      <td>0.231887</td>\n",
       "      <td>14.884369</td>\n",
       "      <td>-223941.720</td>\n",
       "      <td>0.168476</td>\n",
       "      <td>739.08862</td>\n",
       "    </tr>\n",
       "    <tr>\n",
       "      <th>4</th>\n",
       "      <td>0.092452</td>\n",
       "      <td>-23.781538</td>\n",
       "      <td>420.74415</td>\n",
       "      <td>0.210471</td>\n",
       "      <td>15.963257</td>\n",
       "      <td>-99625.875</td>\n",
       "      <td>0.170323</td>\n",
       "      <td>749.81940</td>\n",
       "    </tr>\n",
       "  </tbody>\n",
       "</table>\n",
       "</div>"
      ],
      "text/plain": [
       "   Friction        Hub  Yield point  Soldification  x-position    max force  \\\n",
       "0  0.087333 -23.734797    378.96838       0.216275   16.019692   -88418.969   \n",
       "1  0.112667 -23.945203    364.83162       0.245743   16.893973 -1720949.400   \n",
       "2  0.142081 -23.808332    348.41877       0.226572   17.516778  -108039.340   \n",
       "3  0.064685 -23.912855    344.15463       0.231887   14.884369  -223941.720   \n",
       "4  0.092452 -23.781538    420.74415       0.210471   15.963257   -99625.875   \n",
       "\n",
       "   max plasctic  max stress  \n",
       "0      0.170637   753.02191  \n",
       "1      0.168690   751.46106  \n",
       "2      0.168020   750.84351  \n",
       "3      0.168476   739.08862  \n",
       "4      0.170323   749.81940  "
      ]
     },
     "execution_count": 4,
     "metadata": {},
     "output_type": "execute_result"
    }
   ],
   "source": [
    "data.head()"
   ]
  },
  {
   "cell_type": "markdown",
   "metadata": {
    "id": "pB6ANypVWR-S"
   },
   "source": [
    "#### Five last records of data"
   ]
  },
  {
   "cell_type": "code",
   "execution_count": 5,
   "metadata": {
    "id": "neFc28HJWR-T",
    "outputId": "1749d572-471e-4928-907c-34bbef80e9fc"
   },
   "outputs": [
    {
     "data": {
      "text/html": [
       "<div>\n",
       "<style scoped>\n",
       "    .dataframe tbody tr th:only-of-type {\n",
       "        vertical-align: middle;\n",
       "    }\n",
       "\n",
       "    .dataframe tbody tr th {\n",
       "        vertical-align: top;\n",
       "    }\n",
       "\n",
       "    .dataframe thead th {\n",
       "        text-align: right;\n",
       "    }\n",
       "</style>\n",
       "<table border=\"1\" class=\"dataframe\">\n",
       "  <thead>\n",
       "    <tr style=\"text-align: right;\">\n",
       "      <th></th>\n",
       "      <th>Friction</th>\n",
       "      <th>Hub</th>\n",
       "      <th>Yield point</th>\n",
       "      <th>Soldification</th>\n",
       "      <th>x-position</th>\n",
       "      <th>max force</th>\n",
       "      <th>max plasctic</th>\n",
       "      <th>max stress</th>\n",
       "    </tr>\n",
       "  </thead>\n",
       "  <tbody>\n",
       "    <tr>\n",
       "      <th>244</th>\n",
       "      <td>0.163850</td>\n",
       "      <td>-24.031867</td>\n",
       "      <td>374.19646</td>\n",
       "      <td>0.218775</td>\n",
       "      <td>19.407285</td>\n",
       "      <td>-4323948.000</td>\n",
       "      <td>0.301378</td>\n",
       "      <td>759.98816</td>\n",
       "    </tr>\n",
       "    <tr>\n",
       "      <th>245</th>\n",
       "      <td>0.079268</td>\n",
       "      <td>-23.758655</td>\n",
       "      <td>371.39644</td>\n",
       "      <td>0.224817</td>\n",
       "      <td>13.802264</td>\n",
       "      <td>-93814.227</td>\n",
       "      <td>0.186402</td>\n",
       "      <td>752.34454</td>\n",
       "    </tr>\n",
       "    <tr>\n",
       "      <th>246</th>\n",
       "      <td>0.104921</td>\n",
       "      <td>-23.973700</td>\n",
       "      <td>356.68827</td>\n",
       "      <td>0.262010</td>\n",
       "      <td>15.094831</td>\n",
       "      <td>-2021064.800</td>\n",
       "      <td>0.168310</td>\n",
       "      <td>750.00299</td>\n",
       "    </tr>\n",
       "    <tr>\n",
       "      <th>247</th>\n",
       "      <td>0.132044</td>\n",
       "      <td>-23.826690</td>\n",
       "      <td>334.96855</td>\n",
       "      <td>0.233742</td>\n",
       "      <td>16.478554</td>\n",
       "      <td>-134428.530</td>\n",
       "      <td>0.171130</td>\n",
       "      <td>749.95685</td>\n",
       "    </tr>\n",
       "    <tr>\n",
       "      <th>248</th>\n",
       "      <td>0.177405</td>\n",
       "      <td>-23.643094</td>\n",
       "      <td>406.53944</td>\n",
       "      <td>0.213710</td>\n",
       "      <td>16.158946</td>\n",
       "      <td>-79631.813</td>\n",
       "      <td>0.169566</td>\n",
       "      <td>753.34955</td>\n",
       "    </tr>\n",
       "  </tbody>\n",
       "</table>\n",
       "</div>"
      ],
      "text/plain": [
       "     Friction        Hub  Yield point  Soldification  x-position    max force  \\\n",
       "244  0.163850 -24.031867    374.19646       0.218775   19.407285 -4323948.000   \n",
       "245  0.079268 -23.758655    371.39644       0.224817   13.802264   -93814.227   \n",
       "246  0.104921 -23.973700    356.68827       0.262010   15.094831 -2021064.800   \n",
       "247  0.132044 -23.826690    334.96855       0.233742   16.478554  -134428.530   \n",
       "248  0.177405 -23.643094    406.53944       0.213710   16.158946   -79631.813   \n",
       "\n",
       "     max plasctic  max stress  \n",
       "244      0.301378   759.98816  \n",
       "245      0.186402   752.34454  \n",
       "246      0.168310   750.00299  \n",
       "247      0.171130   749.95685  \n",
       "248      0.169566   753.34955  "
      ]
     },
     "execution_count": 5,
     "metadata": {},
     "output_type": "execute_result"
    }
   ],
   "source": [
    "data.tail()"
   ]
  },
  {
   "cell_type": "markdown",
   "metadata": {
    "id": "EZ08O0DSWR-U"
   },
   "source": [
    "#### Coloumns/features in data"
   ]
  },
  {
   "cell_type": "code",
   "execution_count": 6,
   "metadata": {
    "id": "T3U78ItVWR-V",
    "outputId": "4eeca8f8-215d-4ab7-e7ed-80430562919c"
   },
   "outputs": [
    {
     "data": {
      "text/plain": [
       "Index(['Friction', 'Hub', 'Yield point', 'Soldification', 'x-position',\n",
       "       'max force', 'max plasctic', 'max stress'],\n",
       "      dtype='object')"
      ]
     },
     "execution_count": 6,
     "metadata": {},
     "output_type": "execute_result"
    }
   ],
   "source": [
    "data.columns"
   ]
  },
  {
   "cell_type": "markdown",
   "metadata": {
    "id": "JjerLFQQWR-V"
   },
   "source": [
    "#### Length of data"
   ]
  },
  {
   "cell_type": "code",
   "execution_count": 7,
   "metadata": {
    "id": "Mqq4QDhOWR-W",
    "outputId": "674916fc-2604-4610-d5a9-675beb143035"
   },
   "outputs": [
    {
     "name": "stdout",
     "output_type": "stream",
     "text": [
      "lenght of data is 249\n"
     ]
    }
   ],
   "source": [
    "print('lenght of data is', len(data))"
   ]
  },
  {
   "cell_type": "markdown",
   "metadata": {
    "id": "-WBr6wOIWR-W"
   },
   "source": [
    "#### Shape of data"
   ]
  },
  {
   "cell_type": "code",
   "execution_count": 8,
   "metadata": {
    "id": "rmdqs4VCWR-X",
    "outputId": "db9ee9e5-a2f1-41db-c433-0a09d1d10c9e"
   },
   "outputs": [
    {
     "data": {
      "text/plain": [
       "(249, 8)"
      ]
     },
     "execution_count": 8,
     "metadata": {},
     "output_type": "execute_result"
    }
   ],
   "source": [
    "data.shape"
   ]
  },
  {
   "cell_type": "markdown",
   "metadata": {
    "id": "N_gTCkvfWR-X"
   },
   "source": [
    "#### Data information"
   ]
  },
  {
   "cell_type": "code",
   "execution_count": 9,
   "metadata": {
    "id": "7vFO9a_lWR-Y",
    "outputId": "7a750280-880d-4308-c130-f6fc919666a7",
    "scrolled": false
   },
   "outputs": [
    {
     "name": "stdout",
     "output_type": "stream",
     "text": [
      "<class 'pandas.core.frame.DataFrame'>\n",
      "RangeIndex: 249 entries, 0 to 248\n",
      "Data columns (total 8 columns):\n",
      " #   Column         Non-Null Count  Dtype  \n",
      "---  ------         --------------  -----  \n",
      " 0   Friction       249 non-null    float64\n",
      " 1   Hub            249 non-null    float64\n",
      " 2   Yield point    249 non-null    float64\n",
      " 3   Soldification  249 non-null    float64\n",
      " 4   x-position     249 non-null    float64\n",
      " 5   max force      249 non-null    float64\n",
      " 6   max plasctic   249 non-null    float64\n",
      " 7   max stress     249 non-null    float64\n",
      "dtypes: float64(8)\n",
      "memory usage: 15.7 KB\n"
     ]
    }
   ],
   "source": [
    "data.info()"
   ]
  },
  {
   "cell_type": "markdown",
   "metadata": {
    "id": "c0k2djoqWR-Y"
   },
   "source": [
    "#### Data types of all coloumns"
   ]
  },
  {
   "cell_type": "code",
   "execution_count": 10,
   "metadata": {
    "id": "FU_HtozyWR-Z",
    "outputId": "236a9166-5eae-4f20-dcbc-651045a681c7"
   },
   "outputs": [
    {
     "data": {
      "text/plain": [
       "Friction         float64\n",
       "Hub              float64\n",
       "Yield point      float64\n",
       "Soldification    float64\n",
       "x-position       float64\n",
       "max force        float64\n",
       "max plasctic     float64\n",
       "max stress       float64\n",
       "dtype: object"
      ]
     },
     "execution_count": 10,
     "metadata": {},
     "output_type": "execute_result"
    }
   ],
   "source": [
    "data.dtypes"
   ]
  },
  {
   "cell_type": "markdown",
   "metadata": {
    "id": "cQf7fMAYWR-Z"
   },
   "source": [
    "#### Checking Null values / missing values"
   ]
  },
  {
   "cell_type": "code",
   "execution_count": 11,
   "metadata": {
    "id": "eCjhes9aWR-a",
    "outputId": "0289759a-be2d-4594-9c9e-ba083ba5383f",
    "scrolled": true
   },
   "outputs": [
    {
     "data": {
      "text/plain": [
       "0"
      ]
     },
     "execution_count": 11,
     "metadata": {},
     "output_type": "execute_result"
    }
   ],
   "source": [
    "np.sum(data.isnull().any(axis=1))"
   ]
  },
  {
   "cell_type": "markdown",
   "metadata": {
    "id": "TEwwsrt7WR-a",
    "papermill": {
     "duration": 0.084502,
     "end_time": "2021-01-17T08:01:58.552833",
     "exception": false,
     "start_time": "2021-01-17T08:01:58.468331",
     "status": "completed"
    },
    "tags": []
   },
   "source": [
    "#### Counts of missing values in each column"
   ]
  },
  {
   "cell_type": "code",
   "execution_count": 12,
   "metadata": {
    "execution": {
     "iopub.execute_input": "2021-01-17T08:01:58.732761Z",
     "iopub.status.busy": "2021-01-17T08:01:58.732055Z",
     "iopub.status.idle": "2021-01-17T08:01:58.740352Z",
     "shell.execute_reply": "2021-01-17T08:01:58.740924Z"
    },
    "id": "vqYBKhccWR-b",
    "outputId": "64dccc61-9d4b-488e-8427-7a2da5026765",
    "papermill": {
     "duration": 0.098959,
     "end_time": "2021-01-17T08:01:58.741074",
     "exception": false,
     "start_time": "2021-01-17T08:01:58.642115",
     "status": "completed"
    },
    "tags": []
   },
   "outputs": [
    {
     "data": {
      "text/plain": [
       "Friction         0\n",
       "Hub              0\n",
       "Yield point      0\n",
       "Soldification    0\n",
       "x-position       0\n",
       "max force        0\n",
       "max plasctic     0\n",
       "max stress       0\n",
       "dtype: int64"
      ]
     },
     "execution_count": 12,
     "metadata": {},
     "output_type": "execute_result"
    }
   ],
   "source": [
    "data.isnull().sum()"
   ]
  },
  {
   "cell_type": "markdown",
   "metadata": {
    "id": "cTR_1JbJWR-b"
   },
   "source": [
    "#### Rows and columns in the dataset"
   ]
  },
  {
   "cell_type": "code",
   "execution_count": 13,
   "metadata": {
    "id": "b4vyXasHWR-b",
    "outputId": "04ed00a5-de3d-410a-c842-00992c69b5c6"
   },
   "outputs": [
    {
     "name": "stdout",
     "output_type": "stream",
     "text": [
      "Count of columns in the data is:   8\n"
     ]
    }
   ],
   "source": [
    "print('Count of columns in the data is:  ', len(data.columns))"
   ]
  },
  {
   "cell_type": "code",
   "execution_count": 14,
   "metadata": {
    "id": "bae914xEWR-c",
    "outputId": "a760fe9a-c37f-4bbe-a510-67aac9080a54"
   },
   "outputs": [
    {
     "name": "stdout",
     "output_type": "stream",
     "text": [
      "Count of rows in the data is:   249\n"
     ]
    }
   ],
   "source": [
    "print('Count of rows in the data is:  ', len(data))"
   ]
  },
  {
   "cell_type": "markdown",
   "metadata": {
    "id": "0dbc04db"
   },
   "source": [
    "# ------------------------------------------------------------------------------------------------------"
   ]
  },
  {
   "cell_type": "markdown",
   "metadata": {
    "id": "564d00c7"
   },
   "source": [
    "# Data Visualization"
   ]
  },
  {
   "cell_type": "markdown",
   "metadata": {
    "id": "4902bc8d"
   },
   "source": [
    "# ------------------------------------------------------------------------------------------------------"
   ]
  },
  {
   "cell_type": "markdown",
   "metadata": {
    "id": "149b8f12"
   },
   "source": [
    "### max force values plot"
   ]
  },
  {
   "cell_type": "code",
   "execution_count": 15,
   "metadata": {
    "id": "8083d346",
    "outputId": "747f1315-2d44-439a-ef00-67a25bff3cc8"
   },
   "outputs": [
    {
     "data": {
      "image/png": "[encoded data removed]",
      "text/plain": [
       "<Figure size 1440x720 with 1 Axes>"
      ]
     },
     "metadata": {
      "needs_background": "light"
     },
     "output_type": "display_data"
    }
   ],
   "source": [
    "plt.figure(figsize=(20, 10)) #setting the width and height of the plot \n",
    "plt.subplot(1,1,1) #plot setting \n",
    "plt.plot(data.index, data['max force'].values,color='orange',label='max force') # plotting max force \n",
    "plt.xlabel('Count of all') # x axis \n",
    "plt.ylabel('count of each record') # y axis \n",
    "plt.legend(loc='best') #legend name \n",
    "plt.show() # showing the plot "
   ]
  },
  {
   "cell_type": "markdown",
   "metadata": {
    "id": "YyCuOpk7WR-e"
   },
   "source": [
    "### max stress values plot"
   ]
  },
  {
   "cell_type": "code",
   "execution_count": 16,
   "metadata": {
    "id": "ZdESUvu7WR-e",
    "outputId": "463bec03-870a-4347-c477-6cae085435a0"
   },
   "outputs": [
    {
     "data": {
      "image/png": "[encoded data removed]",
      "text/plain": [
       "<Figure size 1440x720 with 1 Axes>"
      ]
     },
     "metadata": {
      "needs_background": "light"
     },
     "output_type": "display_data"
    }
   ],
   "source": [
    "plt.figure(figsize=(20, 10)) #setting the width and height of the plot \n",
    "plt.subplot(1,1,1) #plot setting \n",
    "plt.plot(data.index, data['max stress'].values,color='green',label='max stress') # plotting max stress\n",
    "plt.xlabel('Count of all') # x axis \n",
    "plt.ylabel('count of each record') # y axis \n",
    "plt.legend(loc='best') #legend name \n",
    "plt.show() # showing the plot "
   ]
  },
  {
   "cell_type": "markdown",
   "metadata": {
    "id": "30ee8f14"
   },
   "source": [
    "### Taking input features of data"
   ]
  },
  {
   "cell_type": "code",
   "execution_count": 17,
   "metadata": {
    "id": "dee4a1db"
   },
   "outputs": [],
   "source": [
    "X=data.drop(columns=['max force','max stress']) #taking input features"
   ]
  },
  {
   "cell_type": "markdown",
   "metadata": {
    "id": "24e5d5ba"
   },
   "source": [
    "### Taking target as output Max force and Max Stress"
   ]
  },
  {
   "cell_type": "code",
   "execution_count": 18,
   "metadata": {
    "id": "7667aa46"
   },
   "outputs": [],
   "source": [
    "y=data[['max force','max stress']] # output  "
   ]
  },
  {
   "cell_type": "markdown",
   "metadata": {
    "id": "836bd9c1",
    "papermill": {
     "duration": 0.065466,
     "end_time": "2020-11-30T07:38:51.578836",
     "exception": false,
     "start_time": "2020-11-30T07:38:51.513370",
     "status": "completed"
    },
    "tags": []
   },
   "source": [
    "<div class=\"alert alert-block alert-danger\">  \n",
    "    <p>\"</p>\n",
    "    <p>\"</p>\n",
    "     <p>\"</p>\n",
    "    <p>\"</p>\n",
    "<h1><center><strong>Split the data into training 80% and testing 20%</strong></center></h1>\n",
    " <p>\"</p>\n",
    "    <p>\"</p> <p>\"</p>\n",
    "    <p>\"</p>\n",
    "        \n",
    "</div>"
   ]
  },
  {
   "cell_type": "code",
   "execution_count": 19,
   "metadata": {
    "id": "9fad93f1"
   },
   "outputs": [],
   "source": [
    "X_train = X[:int(0.8*(len(X)))] # training input features split \n",
    "X_test = X[int(0.8*(len(X))):]  # testing input features split \n",
    "y_train = y[:int(0.8*(len(y)))]  # training output split \n",
    "y_test = y[int(0.8*(len(y))):] # testing output split "
   ]
  },
  {
   "cell_type": "markdown",
   "metadata": {
    "id": "51575a38"
   },
   "source": [
    "### Applying the normalization on the data"
   ]
  },
  {
   "cell_type": "code",
   "execution_count": 20,
   "metadata": {
    "id": "4327cc64"
   },
   "outputs": [],
   "source": [
    "scaler = MinMaxScaler(feature_range=(0,1))\n",
    "y_test1=y_test.copy()\n",
    "y_train1=y_train.copy()\n",
    "X_train= scaler.fit_transform(X_train)\n",
    "X_test= scaler.fit_transform(X_test)\n",
    "y_train=np.array(y_train)\n",
    "y_train= scaler.fit_transform(y_train)\n",
    "y_test=np.array(y_test)\n",
    "y_test= scaler.fit_transform(y_test)"
   ]
  },
  {
   "cell_type": "markdown",
   "metadata": {
    "id": "3910d3e5"
   },
   "source": [
    "# -----------------------------------------------------------------------------------------------------------"
   ]
  },
  {
   "cell_type": "markdown",
   "metadata": {
    "id": "f4fef814"
   },
   "source": [
    "<h1><center> Modelling </center></h1>"
   ]
  },
  {
   "cell_type": "markdown",
   "metadata": {
    "id": "5f35cf69"
   },
   "source": [
    "# -----------------------------------------------------------------------------------------------------------"
   ]
  },
  {
   "cell_type": "markdown",
   "metadata": {
    "id": "82f1308f"
   },
   "source": [
    "# ANN Model"
   ]
  },
  {
   "cell_type": "code",
   "execution_count": 21,
   "metadata": {
    "id": "24f25d62",
    "outputId": "e8c4e20a-6e55-41f4-adba-0c1e4e32b04f"
   },
   "outputs": [],
   "source": [
    "def ANN_model(): # Function of ANN model\n",
    "    ANN = Sequential() # calling sequancial for training \n",
    "    ANN.add(Dense(64,input_shape=(X_train.shape[1],))) # taking the inputs #layer 1\n",
    "    ANN.add(Dropout(0.3)) #dropouts to drop the other than neccessory nodes #layer 2\n",
    "    ANN.add(Activation('relu')) # for the outputs of next layer #layer 3\n",
    "    ANN.add(Dense(32)) # for the outputs of next layer  #layer 4\n",
    "    ANN.add(Dropout(0.5)) #dropouts to drop the other than neccessory nodes again #layer 5\n",
    "    ANN.add(Activation('relu')) # for the outputs of next layer #layer 6\n",
    "    ANN.add(Dense(2)) # for the outputs of next layer#layer 7\n",
    "    return ANN #return the ANN with results \n",
    "ANN_model=ANN_model() #calling the above function "
   ]
  },
  {
   "cell_type": "markdown",
   "metadata": {},
   "source": [
    "### Training the ANN"
   ]
  },
  {
   "cell_type": "code",
   "execution_count": 22,
   "metadata": {
    "id": "72744084",
    "outputId": "f5cc8386-18f6-4f86-b9e0-709e7059810a",
    "scrolled": true
   },
   "outputs": [
    {
     "name": "stdout",
     "output_type": "stream",
     "text": [
      "Epoch 1/50\n",
      "20/20 [==============================] - 1s 3ms/step - loss: 0.4128\n",
      "Epoch 2/50\n",
      "20/20 [==============================] - 0s 2ms/step - loss: 0.1949\n",
      "Epoch 3/50\n",
      "20/20 [==============================] - 0s 2ms/step - loss: 0.0935\n",
      "Epoch 4/50\n",
      "20/20 [==============================] - 0s 2ms/step - loss: 0.0858\n",
      "Epoch 5/50\n",
      "20/20 [==============================] - 0s 2ms/step - loss: 0.0851\n",
      "Epoch 6/50\n",
      "20/20 [==============================] - 0s 2ms/step - loss: 0.0673\n",
      "Epoch 7/50\n",
      "20/20 [==============================] - 0s 2ms/step - loss: 0.0655\n",
      "Epoch 8/50\n",
      "20/20 [==============================] - 0s 2ms/step - loss: 0.0637\n",
      "Epoch 9/50\n",
      "20/20 [==============================] - 0s 2ms/step - loss: 0.0592\n",
      "Epoch 10/50\n",
      "20/20 [==============================] - 0s 2ms/step - loss: 0.0655\n",
      "Epoch 11/50\n",
      "20/20 [==============================] - 0s 2ms/step - loss: 0.0533\n",
      "Epoch 12/50\n",
      "20/20 [==============================] - 0s 2ms/step - loss: 0.0611\n",
      "Epoch 13/50\n",
      "20/20 [==============================] - 0s 2ms/step - loss: 0.0476\n",
      "Epoch 14/50\n",
      "20/20 [==============================] - 0s 2ms/step - loss: 0.0490\n",
      "Epoch 15/50\n",
      "20/20 [==============================] - 0s 2ms/step - loss: 0.0524\n",
      "Epoch 16/50\n",
      "20/20 [==============================] - 0s 2ms/step - loss: 0.0551\n",
      "Epoch 17/50\n",
      "20/20 [==============================] - 0s 2ms/step - loss: 0.0479\n",
      "Epoch 18/50\n",
      "20/20 [==============================] - 0s 2ms/step - loss: 0.0486\n",
      "Epoch 19/50\n",
      "20/20 [==============================] - 0s 2ms/step - loss: 0.0416\n",
      "Epoch 20/50\n",
      "20/20 [==============================] - 0s 2ms/step - loss: 0.0451\n",
      "Epoch 21/50\n",
      "20/20 [==============================] - 0s 2ms/step - loss: 0.0432\n",
      "Epoch 22/50\n",
      "20/20 [==============================] - 0s 2ms/step - loss: 0.0461\n",
      "Epoch 23/50\n",
      "20/20 [==============================] - 0s 2ms/step - loss: 0.0483\n",
      "Epoch 24/50\n",
      "20/20 [==============================] - 0s 2ms/step - loss: 0.0442\n",
      "Epoch 25/50\n",
      "20/20 [==============================] - 0s 2ms/step - loss: 0.0406\n",
      "Epoch 26/50\n",
      "20/20 [==============================] - 0s 2ms/step - loss: 0.0327\n",
      "Epoch 27/50\n",
      "20/20 [==============================] - 0s 2ms/step - loss: 0.0371\n",
      "Epoch 28/50\n",
      "20/20 [==============================] - 0s 2ms/step - loss: 0.0349\n",
      "Epoch 29/50\n",
      "20/20 [==============================] - 0s 2ms/step - loss: 0.0417\n",
      "Epoch 30/50\n",
      "20/20 [==============================] - 0s 2ms/step - loss: 0.0311\n",
      "Epoch 31/50\n",
      "20/20 [==============================] - 0s 2ms/step - loss: 0.0370\n",
      "Epoch 32/50\n",
      "20/20 [==============================] - 0s 2ms/step - loss: 0.0308\n",
      "Epoch 33/50\n",
      "20/20 [==============================] - 0s 2ms/step - loss: 0.0379\n",
      "Epoch 34/50\n",
      "20/20 [==============================] - 0s 2ms/step - loss: 0.0379\n",
      "Epoch 35/50\n",
      "20/20 [==============================] - 0s 2ms/step - loss: 0.0371\n",
      "Epoch 36/50\n",
      "20/20 [==============================] - 0s 2ms/step - loss: 0.0370\n",
      "Epoch 37/50\n",
      "20/20 [==============================] - 0s 2ms/step - loss: 0.0348\n",
      "Epoch 38/50\n",
      "20/20 [==============================] - 0s 2ms/step - loss: 0.0298\n",
      "Epoch 39/50\n",
      "20/20 [==============================] - 0s 2ms/step - loss: 0.0285\n",
      "Epoch 40/50\n",
      "20/20 [==============================] - 0s 2ms/step - loss: 0.0334\n",
      "Epoch 41/50\n",
      "20/20 [==============================] - 0s 2ms/step - loss: 0.0257\n",
      "Epoch 42/50\n",
      "20/20 [==============================] - 0s 2ms/step - loss: 0.0300\n",
      "Epoch 43/50\n",
      "20/20 [==============================] - 0s 2ms/step - loss: 0.0298\n",
      "Epoch 44/50\n",
      "20/20 [==============================] - 0s 2ms/step - loss: 0.0299\n",
      "Epoch 45/50\n",
      "20/20 [==============================] - 0s 2ms/step - loss: 0.0306\n",
      "Epoch 46/50\n",
      "20/20 [==============================] - 0s 2ms/step - loss: 0.0273\n",
      "Epoch 47/50\n",
      "20/20 [==============================] - 0s 2ms/step - loss: 0.0296\n",
      "Epoch 48/50\n",
      "20/20 [==============================] - 0s 2ms/step - loss: 0.0251\n",
      "Epoch 49/50\n",
      "20/20 [==============================] - 0s 2ms/step - loss: 0.0247\n",
      "Epoch 50/50\n",
      "20/20 [==============================] - 0s 2ms/step - loss: 0.0252\n"
     ]
    },
    {
     "data": {
      "text/plain": [
       "<keras.callbacks.History at 0x1776a52dd30>"
      ]
     },
     "execution_count": 22,
     "metadata": {},
     "output_type": "execute_result"
    }
   ],
   "source": [
    "ANN_model.compile(optimizer=Adam(), loss='mean_squared_error') #adding the loss and optimizer to look at the performance of the model\n",
    "ANN_model.fit(X_train, y_train, epochs=50, batch_size=10) #start training with 50 epochs and batch size of 10 on training data"
   ]
  },
  {
   "cell_type": "markdown",
   "metadata": {},
   "source": [
    "> ## Model paramters used:\n",
    "    >- Loss function (mean_squared_error)\n",
    "    >- Epochs (50)\n",
    "    >- Batch size (10)\n",
    "    >- Number of layers (7)\n",
    "   > - Optimizer (Adam)\n",
    "    >- Dropout (0.3)\n",
    "    >- Activation function (Relu)"
   ]
  },
  {
   "cell_type": "markdown",
   "metadata": {
    "id": "45d667c5"
   },
   "source": [
    "# Evaluation Measures on Test data"
   ]
  },
  {
   "cell_type": "code",
   "execution_count": 23,
   "metadata": {
    "id": "lnJTAWqlWR-k",
    "outputId": "ee86a19d-d7f4-4f6b-80a1-7cb556b85dcc"
   },
   "outputs": [
    {
     "name": "stdout",
     "output_type": "stream",
     "text": [
      "2/2 [==============================] - 0s 3ms/step\n"
     ]
    }
   ],
   "source": [
    "y_pred_test1=ANN_model.predict(X_test) # tetsing trained model on test data"
   ]
  },
  {
   "cell_type": "markdown",
   "metadata": {
    "id": "efaebcf1"
   },
   "source": [
    "### MAE (Mean absolute error)"
   ]
  },
  {
   "cell_type": "code",
   "execution_count": 24,
   "metadata": {
    "colab": {
     "base_uri": "https://localhost:8080/"
    },
    "id": "01f2752b",
    "outputId": "502598a3-ab27-4602-c89d-8782a7b3dbf1"
   },
   "outputs": [
    {
     "name": "stdout",
     "output_type": "stream",
     "text": [
      "MAE:  0.11193\n"
     ]
    }
   ],
   "source": [
    "test_MAE1=mean_absolute_error(y_test,y_pred_test1) # calculating the mae score\n",
    "print('MAE: ', round(test_MAE1,5)) #pritng the results "
   ]
  },
  {
   "cell_type": "markdown",
   "metadata": {
    "id": "6fc7ba7d"
   },
   "source": [
    "### MSE (Mean squared error)"
   ]
  },
  {
   "cell_type": "code",
   "execution_count": 25,
   "metadata": {
    "id": "c41f4dfd",
    "outputId": "4ce420ca-dffb-4487-9ed4-6fa6a9221924"
   },
   "outputs": [
    {
     "name": "stdout",
     "output_type": "stream",
     "text": [
      "MSE:  0.01841\n"
     ]
    }
   ],
   "source": [
    "test_mse1=mean_squared_error(y_test,y_pred_test1) # calculating the mse score\n",
    "print('MSE: ', round(test_mse1,5)) #printing the results "
   ]
  },
  {
   "cell_type": "markdown",
   "metadata": {
    "id": "e75df6c0"
   },
   "source": [
    "### RMSE (Root mean squared error)"
   ]
  },
  {
   "cell_type": "code",
   "execution_count": 26,
   "metadata": {
    "colab": {
     "base_uri": "https://localhost:8080/"
    },
    "id": "9290cf9b",
    "outputId": "4455823c-da99-4149-e3ba-dd4fe51ce5be"
   },
   "outputs": [
    {
     "name": "stdout",
     "output_type": "stream",
     "text": [
      "RMSE:  0.13569\n"
     ]
    }
   ],
   "source": [
    "test_rmse1=np.sqrt(test_mse1) # calculating the rmse score\n",
    "print('RMSE: ', round(test_rmse1,5)) #pritng the results "
   ]
  },
  {
   "cell_type": "markdown",
   "metadata": {
    "id": "072999b0"
   },
   "source": [
    "# -----------------------------------------------------------------------------------------------------------"
   ]
  }
 ],
 "metadata": {
  "colab": {
   "provenance": []
  },
  "kernelspec": {
   "display_name": "Python 3 (ipykernel)",
   "language": "python",
   "name": "python3"
  },
  "language_info": {
   "codemirror_mode": {
    "name": "ipython",
    "version": 3
   },
   "file_extension": ".py",
   "mimetype": "text/x-python",
   "name": "python",
   "nbconvert_exporter": "python",
   "pygments_lexer": "ipython3",
   "version": "3.9.12"
  }
 },
 "nbformat": 4,
 "nbformat_minor": 1
}
